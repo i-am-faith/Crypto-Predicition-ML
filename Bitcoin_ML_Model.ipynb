{
 "cells": [
  {
   "cell_type": "code",
   "execution_count": 7,
   "id": "2801d053-54bc-427c-b6aa-d5ad4829b20e",
   "metadata": {},
   "outputs": [],
   "source": [
    "import yfinance as yf\n",
    "import pandas as pd\n",
    "import numpy as np\n",
    "import matplotlib.pyplot as plt"
   ]
  },
  {
   "cell_type": "code",
   "execution_count": 8,
   "id": "aa1d7684-958f-48d6-b1e6-fc34465205b8",
   "metadata": {},
   "outputs": [
    {
     "name": "stderr",
     "output_type": "stream",
     "text": [
      "[*********************100%%**********************]  1 of 1 completed\n"
     ]
    }
   ],
   "source": [
    "start = '2013-01-01'\n",
    "end = '2023-12-21'\n",
    "coin = 'BTC-USD'\n",
    "\n",
    "data = yf.download(coin, start, end)"
   ]
  },
  {
   "cell_type": "code",
   "execution_count": 9,
   "id": "eecb3108-1cca-42c5-94b4-98493f9f170c",
   "metadata": {},
   "outputs": [],
   "source": [
    "data.reset_index(inplace=True)"
   ]
  },
  {
   "cell_type": "code",
   "execution_count": 10,
   "id": "379ebeab-e712-47e5-8d46-7d92e324d2e7",
   "metadata": {},
   "outputs": [
    {
     "data": {
      "text/html": [
       "<div>\n",
       "<style scoped>\n",
       "    .dataframe tbody tr th:only-of-type {\n",
       "        vertical-align: middle;\n",
       "    }\n",
       "\n",
       "    .dataframe tbody tr th {\n",
       "        vertical-align: top;\n",
       "    }\n",
       "\n",
       "    .dataframe thead th {\n",
       "        text-align: right;\n",
       "    }\n",
       "</style>\n",
       "<table border=\"1\" class=\"dataframe\">\n",
       "  <thead>\n",
       "    <tr style=\"text-align: right;\">\n",
       "      <th></th>\n",
       "      <th>Date</th>\n",
       "      <th>Open</th>\n",
       "      <th>High</th>\n",
       "      <th>Low</th>\n",
       "      <th>Close</th>\n",
       "      <th>Adj Close</th>\n",
       "      <th>Volume</th>\n",
       "    </tr>\n",
       "  </thead>\n",
       "  <tbody>\n",
       "    <tr>\n",
       "      <th>0</th>\n",
       "      <td>2014-09-17</td>\n",
       "      <td>465.864014</td>\n",
       "      <td>468.174011</td>\n",
       "      <td>452.421997</td>\n",
       "      <td>457.334015</td>\n",
       "      <td>457.334015</td>\n",
       "      <td>21056800</td>\n",
       "    </tr>\n",
       "    <tr>\n",
       "      <th>1</th>\n",
       "      <td>2014-09-18</td>\n",
       "      <td>456.859985</td>\n",
       "      <td>456.859985</td>\n",
       "      <td>413.104004</td>\n",
       "      <td>424.440002</td>\n",
       "      <td>424.440002</td>\n",
       "      <td>34483200</td>\n",
       "    </tr>\n",
       "    <tr>\n",
       "      <th>2</th>\n",
       "      <td>2014-09-19</td>\n",
       "      <td>424.102997</td>\n",
       "      <td>427.834991</td>\n",
       "      <td>384.532013</td>\n",
       "      <td>394.795990</td>\n",
       "      <td>394.795990</td>\n",
       "      <td>37919700</td>\n",
       "    </tr>\n",
       "    <tr>\n",
       "      <th>3</th>\n",
       "      <td>2014-09-20</td>\n",
       "      <td>394.673004</td>\n",
       "      <td>423.295990</td>\n",
       "      <td>389.882996</td>\n",
       "      <td>408.903992</td>\n",
       "      <td>408.903992</td>\n",
       "      <td>36863600</td>\n",
       "    </tr>\n",
       "    <tr>\n",
       "      <th>4</th>\n",
       "      <td>2014-09-21</td>\n",
       "      <td>408.084991</td>\n",
       "      <td>412.425995</td>\n",
       "      <td>393.181000</td>\n",
       "      <td>398.821014</td>\n",
       "      <td>398.821014</td>\n",
       "      <td>26580100</td>\n",
       "    </tr>\n",
       "    <tr>\n",
       "      <th>...</th>\n",
       "      <td>...</td>\n",
       "      <td>...</td>\n",
       "      <td>...</td>\n",
       "      <td>...</td>\n",
       "      <td>...</td>\n",
       "      <td>...</td>\n",
       "      <td>...</td>\n",
       "    </tr>\n",
       "    <tr>\n",
       "      <th>3377</th>\n",
       "      <td>2023-12-16</td>\n",
       "      <td>41937.742188</td>\n",
       "      <td>42664.945312</td>\n",
       "      <td>41723.113281</td>\n",
       "      <td>42240.117188</td>\n",
       "      <td>42240.117188</td>\n",
       "      <td>14386729590</td>\n",
       "    </tr>\n",
       "    <tr>\n",
       "      <th>3378</th>\n",
       "      <td>2023-12-17</td>\n",
       "      <td>42236.109375</td>\n",
       "      <td>42359.496094</td>\n",
       "      <td>41274.542969</td>\n",
       "      <td>41364.664062</td>\n",
       "      <td>41364.664062</td>\n",
       "      <td>16678702876</td>\n",
       "    </tr>\n",
       "    <tr>\n",
       "      <th>3379</th>\n",
       "      <td>2023-12-18</td>\n",
       "      <td>41348.203125</td>\n",
       "      <td>42720.296875</td>\n",
       "      <td>40530.257812</td>\n",
       "      <td>42623.539062</td>\n",
       "      <td>42623.539062</td>\n",
       "      <td>25224642008</td>\n",
       "    </tr>\n",
       "    <tr>\n",
       "      <th>3380</th>\n",
       "      <td>2023-12-19</td>\n",
       "      <td>42641.511719</td>\n",
       "      <td>43354.296875</td>\n",
       "      <td>41826.335938</td>\n",
       "      <td>42270.527344</td>\n",
       "      <td>42270.527344</td>\n",
       "      <td>23171001281</td>\n",
       "    </tr>\n",
       "    <tr>\n",
       "      <th>3381</th>\n",
       "      <td>2023-12-20</td>\n",
       "      <td>42261.300781</td>\n",
       "      <td>44275.585938</td>\n",
       "      <td>42223.816406</td>\n",
       "      <td>43652.250000</td>\n",
       "      <td>43652.250000</td>\n",
       "      <td>27868908174</td>\n",
       "    </tr>\n",
       "  </tbody>\n",
       "</table>\n",
       "<p>3382 rows × 7 columns</p>\n",
       "</div>"
      ],
      "text/plain": [
       "           Date          Open          High           Low         Close  \\\n",
       "0    2014-09-17    465.864014    468.174011    452.421997    457.334015   \n",
       "1    2014-09-18    456.859985    456.859985    413.104004    424.440002   \n",
       "2    2014-09-19    424.102997    427.834991    384.532013    394.795990   \n",
       "3    2014-09-20    394.673004    423.295990    389.882996    408.903992   \n",
       "4    2014-09-21    408.084991    412.425995    393.181000    398.821014   \n",
       "...         ...           ...           ...           ...           ...   \n",
       "3377 2023-12-16  41937.742188  42664.945312  41723.113281  42240.117188   \n",
       "3378 2023-12-17  42236.109375  42359.496094  41274.542969  41364.664062   \n",
       "3379 2023-12-18  41348.203125  42720.296875  40530.257812  42623.539062   \n",
       "3380 2023-12-19  42641.511719  43354.296875  41826.335938  42270.527344   \n",
       "3381 2023-12-20  42261.300781  44275.585938  42223.816406  43652.250000   \n",
       "\n",
       "         Adj Close       Volume  \n",
       "0       457.334015     21056800  \n",
       "1       424.440002     34483200  \n",
       "2       394.795990     37919700  \n",
       "3       408.903992     36863600  \n",
       "4       398.821014     26580100  \n",
       "...            ...          ...  \n",
       "3377  42240.117188  14386729590  \n",
       "3378  41364.664062  16678702876  \n",
       "3379  42623.539062  25224642008  \n",
       "3380  42270.527344  23171001281  \n",
       "3381  43652.250000  27868908174  \n",
       "\n",
       "[3382 rows x 7 columns]"
      ]
     },
     "execution_count": 10,
     "metadata": {},
     "output_type": "execute_result"
    }
   ],
   "source": [
    "data"
   ]
  },
  {
   "cell_type": "code",
   "execution_count": 11,
   "id": "c98ff292-f0bd-4f4f-afc4-f2294321934d",
   "metadata": {},
   "outputs": [],
   "source": [
    "data.drop(columns = ['Date','Open','High','Low','Adj Close','Volume'], inplace=True)"
   ]
  },
  {
   "cell_type": "code",
   "execution_count": 12,
   "id": "48dff259-927e-4674-b415-2c2b9f3667f9",
   "metadata": {},
   "outputs": [
    {
     "data": {
      "text/html": [
       "<div>\n",
       "<style scoped>\n",
       "    .dataframe tbody tr th:only-of-type {\n",
       "        vertical-align: middle;\n",
       "    }\n",
       "\n",
       "    .dataframe tbody tr th {\n",
       "        vertical-align: top;\n",
       "    }\n",
       "\n",
       "    .dataframe thead th {\n",
       "        text-align: right;\n",
       "    }\n",
       "</style>\n",
       "<table border=\"1\" class=\"dataframe\">\n",
       "  <thead>\n",
       "    <tr style=\"text-align: right;\">\n",
       "      <th></th>\n",
       "      <th>Close</th>\n",
       "    </tr>\n",
       "  </thead>\n",
       "  <tbody>\n",
       "    <tr>\n",
       "      <th>0</th>\n",
       "      <td>457.334015</td>\n",
       "    </tr>\n",
       "    <tr>\n",
       "      <th>1</th>\n",
       "      <td>424.440002</td>\n",
       "    </tr>\n",
       "    <tr>\n",
       "      <th>2</th>\n",
       "      <td>394.795990</td>\n",
       "    </tr>\n",
       "    <tr>\n",
       "      <th>3</th>\n",
       "      <td>408.903992</td>\n",
       "    </tr>\n",
       "    <tr>\n",
       "      <th>4</th>\n",
       "      <td>398.821014</td>\n",
       "    </tr>\n",
       "    <tr>\n",
       "      <th>...</th>\n",
       "      <td>...</td>\n",
       "    </tr>\n",
       "    <tr>\n",
       "      <th>3377</th>\n",
       "      <td>42240.117188</td>\n",
       "    </tr>\n",
       "    <tr>\n",
       "      <th>3378</th>\n",
       "      <td>41364.664062</td>\n",
       "    </tr>\n",
       "    <tr>\n",
       "      <th>3379</th>\n",
       "      <td>42623.539062</td>\n",
       "    </tr>\n",
       "    <tr>\n",
       "      <th>3380</th>\n",
       "      <td>42270.527344</td>\n",
       "    </tr>\n",
       "    <tr>\n",
       "      <th>3381</th>\n",
       "      <td>43652.250000</td>\n",
       "    </tr>\n",
       "  </tbody>\n",
       "</table>\n",
       "<p>3382 rows × 1 columns</p>\n",
       "</div>"
      ],
      "text/plain": [
       "             Close\n",
       "0       457.334015\n",
       "1       424.440002\n",
       "2       394.795990\n",
       "3       408.903992\n",
       "4       398.821014\n",
       "...            ...\n",
       "3377  42240.117188\n",
       "3378  41364.664062\n",
       "3379  42623.539062\n",
       "3380  42270.527344\n",
       "3381  43652.250000\n",
       "\n",
       "[3382 rows x 1 columns]"
      ]
     },
     "execution_count": 12,
     "metadata": {},
     "output_type": "execute_result"
    }
   ],
   "source": [
    "data"
   ]
  },
  {
   "cell_type": "code",
   "execution_count": 13,
   "id": "80f8e2a6-563d-49f5-a3c5-c5f52e8c66c6",
   "metadata": {},
   "outputs": [
    {
     "data": {
      "image/png": "[encoded data removed]",
      "text/plain": [
       "<Figure size 800x1000 with 1 Axes>"
      ]
     },
     "metadata": {},
     "output_type": "display_data"
    }
   ],
   "source": [
    "plt.figure(figsize=(8,10))\n",
    "plt.plot(data)\n",
    "plt.show()"
   ]
  },
  {
   "cell_type": "code",
   "execution_count": 14,
   "id": "ec7c961a-6783-4289-b102-98facb5142bb",
   "metadata": {},
   "outputs": [],
   "source": [
    "train_data = data[:-100]\n",
    "test_data = data[-100:]"
   ]
  },
  {
   "cell_type": "code",
   "execution_count": 15,
   "id": "70d9f005-edb6-47ac-ae47-04c70b6e0214",
   "metadata": {},
   "outputs": [
    {
     "data": {
      "text/plain": [
       "(3282, 1)"
      ]
     },
     "execution_count": 15,
     "metadata": {},
     "output_type": "execute_result"
    }
   ],
   "source": [
    "train_data.shape"
   ]
  },
  {
   "cell_type": "code",
   "execution_count": 16,
   "id": "17461adf-dd77-4ad6-9e82-0cee9f3e0fc2",
   "metadata": {},
   "outputs": [
    {
     "data": {
      "text/plain": [
       "(100, 1)"
      ]
     },
     "execution_count": 16,
     "metadata": {},
     "output_type": "execute_result"
    }
   ],
   "source": [
    "test_data.shape"
   ]
  },
  {
   "cell_type": "code",
   "execution_count": 17,
   "id": "bdeacaf3-7db7-40e7-8385-45bbd7dd31c5",
   "metadata": {},
   "outputs": [],
   "source": [
    "from sklearn.preprocessing import MinMaxScaler\n",
    "scaler = MinMaxScaler(feature_range=(0,1))"
   ]
  },
  {
   "cell_type": "code",
   "execution_count": 18,
   "id": "96af2fa8-6e35-41b0-9186-3d48b9fe6c81",
   "metadata": {},
   "outputs": [],
   "source": [
    "train_data_scale = scaler.fit_transform(train_data)"
   ]
  },
  {
   "cell_type": "code",
   "execution_count": 19,
   "id": "01178263-4f35-408d-bcc0-bbe5d807aca8",
   "metadata": {},
   "outputs": [],
   "source": [
    "base_days = 100"
   ]
  },
  {
   "cell_type": "code",
   "execution_count": 21,
   "id": "16faf40a-a0b2-4f81-a085-28f4e8162661",
   "metadata": {},
   "outputs": [],
   "source": [
    "x = []\n",
    "y = []\n",
    "for i in range(base_days, train_data_scale.shape[0]):\n",
    "    x.append(train_data_scale[i-base_days:i])\n",
    "    y.append(train_data_scale[i,0])"
   ]
  },
  {
   "cell_type": "code",
   "execution_count": 22,
   "id": "1a1648d5-98be-4775-b815-92e832b76363",
   "metadata": {},
   "outputs": [],
   "source": [
    "x, y = np.array(x), np.array(y)"
   ]
  },
  {
   "cell_type": "code",
   "execution_count": 23,
   "id": "f735ac5f-ce83-443b-bcff-32745bb41f06",
   "metadata": {},
   "outputs": [],
   "source": [
    "x = np.reshape(x, (x.shape[0],x.shape[1],1))"
   ]
  },
  {
   "cell_type": "code",
   "execution_count": 25,
   "id": "08173c3a-f069-46a4-a165-88c5ae11c564",
   "metadata": {},
   "outputs": [],
   "source": [
    "from keras.layers import LSTM, Dense, Dropout\n",
    "from keras.models import Sequential"
   ]
  },
  {
   "cell_type": "code",
   "execution_count": 27,
   "id": "ca64e68e-753d-4c09-900c-ab6551e679f2",
   "metadata": {},
   "outputs": [],
   "source": [
    "model = Sequential()\n",
    "model.add(LSTM(50, activation = 'relu', return_sequences=True, input_shape=(x.shape[1],1)))\n",
    "model.add(Dropout(0.2))\n",
    "model.add(LSTM(60, activation='relu',return_sequences=True))\n",
    "model.add(Dropout(0.3))\n",
    "model.add(LSTM(80, activation='relu',return_sequences=True))\n",
    "model.add(Dropout(0.4))\n",
    "model.add(LSTM(120, activation='relu'))\n",
    "model.add(Dropout(0.5))\n",
    "\n",
    "model.add(Dense(units=1))"
   ]
  },
  {
   "cell_type": "code",
   "execution_count": 28,
   "id": "1ed41f8b-f408-4144-935d-5415f4649a1a",
   "metadata": {},
   "outputs": [
    {
     "name": "stdout",
     "output_type": "stream",
     "text": [
      "Model: \"sequential_1\"\n",
      "_________________________________________________________________\n",
      " Layer (type)                Output Shape              Param #   \n",
      "=================================================================\n",
      " lstm_4 (LSTM)               (None, 100, 50)           10400     \n",
      "                                                                 \n",
      " dropout_4 (Dropout)         (None, 100, 50)           0         \n",
      "                                                                 \n",
      " lstm_5 (LSTM)               (None, 100, 60)           26640     \n",
      "                                                                 \n",
      " dropout_5 (Dropout)         (None, 100, 60)           0         \n",
      "                                                                 \n",
      " lstm_6 (LSTM)               (None, 100, 80)           45120     \n",
      "                                                                 \n",
      " dropout_6 (Dropout)         (None, 100, 80)           0         \n",
      "                                                                 \n",
      " lstm_7 (LSTM)               (None, 120)               96480     \n",
      "                                                                 \n",
      " dropout_7 (Dropout)         (None, 120)               0         \n",
      "                                                                 \n",
      " dense_1 (Dense)             (None, 1)                 121       \n",
      "                                                                 \n",
      "=================================================================\n",
      "Total params: 178761 (698.29 KB)\n",
      "Trainable params: 178761 (698.29 KB)\n",
      "Non-trainable params: 0 (0.00 Byte)\n",
      "_________________________________________________________________\n"
     ]
    }
   ],
   "source": [
    "model.summary()"
   ]
  },
  {
   "cell_type": "code",
   "execution_count": 30,
   "id": "f0606cb2-9385-4a24-8f7b-2e60d00cd8d0",
   "metadata": {},
   "outputs": [],
   "source": [
    "model.compile(optimizer='adam', loss = 'mean_squared_error')"
   ]
  },
  {
   "cell_type": "code",
   "execution_count": 31,
   "id": "c6466623-7cb1-4368-990c-9d2831935f69",
   "metadata": {},
   "outputs": [
    {
     "name": "stdout",
     "output_type": "stream",
     "text": [
      "Epoch 1/100\n",
      "WARNING:tensorflow:From c:\\Users\\833_SOURIN\\anaconda3\\Lib\\site-packages\\keras\\src\\utils\\tf_utils.py:492: The name tf.ragged.RaggedTensorValue is deprecated. Please use tf.compat.v1.ragged.RaggedTensorValue instead.\n",
      "\n",
      "100/100 [==============================] - 18s 141ms/step - loss: 0.0164\n",
      "Epoch 2/100\n",
      "100/100 [==============================] - 14s 141ms/step - loss: 0.0051\n",
      "Epoch 3/100\n",
      "100/100 [==============================] - 14s 140ms/step - loss: 0.0045\n",
      "Epoch 4/100\n",
      "100/100 [==============================] - 14s 141ms/step - loss: 0.0042\n",
      "Epoch 5/100\n",
      "100/100 [==============================] - 14s 141ms/step - loss: 0.0047\n",
      "Epoch 6/100\n",
      "100/100 [==============================] - 14s 140ms/step - loss: 0.0036\n",
      "Epoch 7/100\n",
      "100/100 [==============================] - 14s 142ms/step - loss: 0.0040\n",
      "Epoch 8/100\n",
      "100/100 [==============================] - 14s 142ms/step - loss: 0.0039\n",
      "Epoch 9/100\n",
      "100/100 [==============================] - 14s 142ms/step - loss: 0.0035\n",
      "Epoch 10/100\n",
      "100/100 [==============================] - 15s 145ms/step - loss: 0.0033\n",
      "Epoch 11/100\n",
      "100/100 [==============================] - 14s 143ms/step - loss: 0.0037\n",
      "Epoch 12/100\n",
      "100/100 [==============================] - 14s 142ms/step - loss: 0.0032\n",
      "Epoch 13/100\n",
      "100/100 [==============================] - 14s 142ms/step - loss: 0.0034\n",
      "Epoch 14/100\n",
      "100/100 [==============================] - 14s 142ms/step - loss: 0.0032\n",
      "Epoch 15/100\n",
      "100/100 [==============================] - 14s 143ms/step - loss: 0.0027\n",
      "Epoch 16/100\n",
      "100/100 [==============================] - 14s 143ms/step - loss: 0.0027\n",
      "Epoch 17/100\n",
      "100/100 [==============================] - 14s 143ms/step - loss: 0.0028\n",
      "Epoch 18/100\n",
      "100/100 [==============================] - 14s 142ms/step - loss: 0.0029\n",
      "Epoch 19/100\n",
      "100/100 [==============================] - 14s 142ms/step - loss: 0.0028\n",
      "Epoch 20/100\n",
      "100/100 [==============================] - 14s 142ms/step - loss: 0.0028\n",
      "Epoch 21/100\n",
      "100/100 [==============================] - 14s 143ms/step - loss: 0.0028\n",
      "Epoch 22/100\n",
      "100/100 [==============================] - 14s 142ms/step - loss: 0.0027\n",
      "Epoch 23/100\n",
      "100/100 [==============================] - 14s 142ms/step - loss: 0.0027\n",
      "Epoch 24/100\n",
      "100/100 [==============================] - 14s 142ms/step - loss: 0.0027\n",
      "Epoch 25/100\n",
      "100/100 [==============================] - 14s 142ms/step - loss: 0.0022\n",
      "Epoch 26/100\n",
      "100/100 [==============================] - 14s 143ms/step - loss: 0.0026\n",
      "Epoch 27/100\n",
      "100/100 [==============================] - 14s 142ms/step - loss: 0.0024\n",
      "Epoch 28/100\n",
      "100/100 [==============================] - 14s 143ms/step - loss: 0.0023\n",
      "Epoch 29/100\n",
      "100/100 [==============================] - 14s 143ms/step - loss: 0.0023\n",
      "Epoch 30/100\n",
      "100/100 [==============================] - 14s 143ms/step - loss: 0.0024\n",
      "Epoch 31/100\n",
      "100/100 [==============================] - 14s 142ms/step - loss: 0.0026\n",
      "Epoch 32/100\n",
      "100/100 [==============================] - 14s 143ms/step - loss: 0.0022\n",
      "Epoch 33/100\n",
      "100/100 [==============================] - 14s 143ms/step - loss: 0.0022\n",
      "Epoch 34/100\n",
      "100/100 [==============================] - 14s 143ms/step - loss: 0.0021\n",
      "Epoch 35/100\n",
      "100/100 [==============================] - 14s 142ms/step - loss: 0.0024\n",
      "Epoch 36/100\n",
      "100/100 [==============================] - 14s 142ms/step - loss: 0.0024\n",
      "Epoch 37/100\n",
      "100/100 [==============================] - 14s 142ms/step - loss: 0.0024\n",
      "Epoch 38/100\n",
      "100/100 [==============================] - 14s 142ms/step - loss: 0.0022\n",
      "Epoch 39/100\n",
      "100/100 [==============================] - 14s 143ms/step - loss: 0.0021\n",
      "Epoch 40/100\n",
      "100/100 [==============================] - 14s 143ms/step - loss: 0.0023\n",
      "Epoch 41/100\n",
      "100/100 [==============================] - 15s 151ms/step - loss: 0.0020\n",
      "Epoch 42/100\n",
      "100/100 [==============================] - 15s 148ms/step - loss: 0.0022\n",
      "Epoch 43/100\n",
      "100/100 [==============================] - 15s 147ms/step - loss: 0.0022\n",
      "Epoch 44/100\n",
      "100/100 [==============================] - 14s 144ms/step - loss: 0.0020\n",
      "Epoch 45/100\n",
      "100/100 [==============================] - 15s 145ms/step - loss: 0.0022\n",
      "Epoch 46/100\n",
      "100/100 [==============================] - 15s 146ms/step - loss: 0.0022\n",
      "Epoch 47/100\n",
      "100/100 [==============================] - 15s 148ms/step - loss: 0.0021\n",
      "Epoch 48/100\n",
      "100/100 [==============================] - 15s 148ms/step - loss: 0.0023\n",
      "Epoch 49/100\n",
      "100/100 [==============================] - 15s 148ms/step - loss: 0.0020\n",
      "Epoch 50/100\n",
      "100/100 [==============================] - 14s 144ms/step - loss: 0.0020\n",
      "Epoch 51/100\n",
      "100/100 [==============================] - 14s 145ms/step - loss: 0.0021\n",
      "Epoch 52/100\n",
      "100/100 [==============================] - 15s 149ms/step - loss: 0.0021\n",
      "Epoch 53/100\n",
      "100/100 [==============================] - 15s 146ms/step - loss: 0.0022\n",
      "Epoch 54/100\n",
      "100/100 [==============================] - 15s 147ms/step - loss: 0.0021\n",
      "Epoch 55/100\n",
      "100/100 [==============================] - 14s 144ms/step - loss: 0.0020\n",
      "Epoch 56/100\n",
      "100/100 [==============================] - 15s 147ms/step - loss: 0.0023\n",
      "Epoch 57/100\n",
      "100/100 [==============================] - 14s 143ms/step - loss: 0.0020\n",
      "Epoch 58/100\n",
      "100/100 [==============================] - 14s 144ms/step - loss: 0.0021\n",
      "Epoch 59/100\n",
      "100/100 [==============================] - 14s 144ms/step - loss: 0.0020\n",
      "Epoch 60/100\n",
      "100/100 [==============================] - 14s 144ms/step - loss: 0.0020\n",
      "Epoch 61/100\n",
      "100/100 [==============================] - 14s 144ms/step - loss: 0.0019\n",
      "Epoch 62/100\n",
      "100/100 [==============================] - 14s 142ms/step - loss: 0.0020\n",
      "Epoch 63/100\n",
      "100/100 [==============================] - 14s 142ms/step - loss: 0.0021\n",
      "Epoch 64/100\n",
      "100/100 [==============================] - 14s 143ms/step - loss: 0.0020\n",
      "Epoch 65/100\n",
      "100/100 [==============================] - 14s 143ms/step - loss: 0.0020\n",
      "Epoch 66/100\n",
      "100/100 [==============================] - 14s 142ms/step - loss: 0.0021\n",
      "Epoch 67/100\n",
      "100/100 [==============================] - 14s 143ms/step - loss: 0.0019\n",
      "Epoch 68/100\n",
      "100/100 [==============================] - 14s 144ms/step - loss: 0.0020\n",
      "Epoch 69/100\n",
      "100/100 [==============================] - 14s 143ms/step - loss: 0.0020\n",
      "Epoch 70/100\n",
      "100/100 [==============================] - 14s 143ms/step - loss: 0.0021\n",
      "Epoch 71/100\n",
      "100/100 [==============================] - 14s 144ms/step - loss: 0.0019\n",
      "Epoch 72/100\n",
      "100/100 [==============================] - 14s 143ms/step - loss: 0.0020\n",
      "Epoch 73/100\n",
      "100/100 [==============================] - 14s 143ms/step - loss: 0.0019\n",
      "Epoch 74/100\n",
      "100/100 [==============================] - 14s 143ms/step - loss: 0.0018\n",
      "Epoch 75/100\n",
      "100/100 [==============================] - 14s 143ms/step - loss: 0.0022\n",
      "Epoch 76/100\n",
      "100/100 [==============================] - 14s 143ms/step - loss: 0.0020\n",
      "Epoch 77/100\n",
      "100/100 [==============================] - 14s 142ms/step - loss: 0.0019\n",
      "Epoch 78/100\n",
      "100/100 [==============================] - 14s 143ms/step - loss: 0.0020\n",
      "Epoch 79/100\n",
      "100/100 [==============================] - 14s 144ms/step - loss: 0.0022\n",
      "Epoch 80/100\n",
      "100/100 [==============================] - 14s 143ms/step - loss: 0.0019\n",
      "Epoch 81/100\n",
      "100/100 [==============================] - 14s 143ms/step - loss: 0.0019\n",
      "Epoch 82/100\n",
      "100/100 [==============================] - 14s 143ms/step - loss: 0.0020\n",
      "Epoch 83/100\n",
      "100/100 [==============================] - 14s 142ms/step - loss: 0.0017\n",
      "Epoch 84/100\n",
      "100/100 [==============================] - 14s 143ms/step - loss: 0.0019\n",
      "Epoch 85/100\n",
      "100/100 [==============================] - 14s 142ms/step - loss: 0.0019\n",
      "Epoch 86/100\n",
      "100/100 [==============================] - 14s 143ms/step - loss: 0.0019\n",
      "Epoch 87/100\n",
      "100/100 [==============================] - 14s 143ms/step - loss: 0.0019\n",
      "Epoch 88/100\n",
      "100/100 [==============================] - 14s 143ms/step - loss: 0.0019\n",
      "Epoch 89/100\n",
      "100/100 [==============================] - 14s 143ms/step - loss: 0.0020\n",
      "Epoch 90/100\n",
      "100/100 [==============================] - 14s 142ms/step - loss: 0.0019\n",
      "Epoch 91/100\n",
      "100/100 [==============================] - 14s 142ms/step - loss: 0.0019\n",
      "Epoch 92/100\n",
      "100/100 [==============================] - 14s 144ms/step - loss: 0.0018\n",
      "Epoch 93/100\n",
      "100/100 [==============================] - 14s 143ms/step - loss: 0.0018\n",
      "Epoch 94/100\n",
      "100/100 [==============================] - 14s 142ms/step - loss: 0.0018\n",
      "Epoch 95/100\n",
      "100/100 [==============================] - 14s 142ms/step - loss: 0.0019\n",
      "Epoch 96/100\n",
      "100/100 [==============================] - 14s 143ms/step - loss: 0.0018\n",
      "Epoch 97/100\n",
      "100/100 [==============================] - 14s 142ms/step - loss: 0.0018\n",
      "Epoch 98/100\n",
      "100/100 [==============================] - 14s 142ms/step - loss: 0.0020\n",
      "Epoch 99/100\n",
      "100/100 [==============================] - 14s 143ms/step - loss: 0.0017\n",
      "Epoch 100/100\n",
      "100/100 [==============================] - 14s 143ms/step - loss: 0.0020\n"
     ]
    },
    {
     "data": {
      "text/plain": [
       "<keras.src.callbacks.History at 0x25628fbad50>"
      ]
     },
     "execution_count": 31,
     "metadata": {},
     "output_type": "execute_result"
    }
   ],
   "source": [
    "model.fit(x, y, epochs = 100, verbose =1 )"
   ]
  },
  {
   "cell_type": "code",
   "execution_count": 32,
   "id": "dafce5a7-5925-41ab-80c1-e419895edb22",
   "metadata": {},
   "outputs": [],
   "source": [
    "test_data = pd.concat((train_data.tail(100), test_data), ignore_index=True)"
   ]
  },
  {
   "cell_type": "code",
   "execution_count": 33,
   "id": "5ce72073-66b7-4fb9-871d-e67d0b982671",
   "metadata": {},
   "outputs": [
    {
     "data": {
      "text/html": [
       "<div>\n",
       "<style scoped>\n",
       "    .dataframe tbody tr th:only-of-type {\n",
       "        vertical-align: middle;\n",
       "    }\n",
       "\n",
       "    .dataframe tbody tr th {\n",
       "        vertical-align: top;\n",
       "    }\n",
       "\n",
       "    .dataframe thead th {\n",
       "        text-align: right;\n",
       "    }\n",
       "</style>\n",
       "<table border=\"1\" class=\"dataframe\">\n",
       "  <thead>\n",
       "    <tr style=\"text-align: right;\">\n",
       "      <th></th>\n",
       "      <th>Close</th>\n",
       "    </tr>\n",
       "  </thead>\n",
       "  <tbody>\n",
       "    <tr>\n",
       "      <th>0</th>\n",
       "      <td>27119.066406</td>\n",
       "    </tr>\n",
       "    <tr>\n",
       "      <th>1</th>\n",
       "      <td>25760.097656</td>\n",
       "    </tr>\n",
       "    <tr>\n",
       "      <th>2</th>\n",
       "      <td>27238.783203</td>\n",
       "    </tr>\n",
       "    <tr>\n",
       "      <th>3</th>\n",
       "      <td>26345.998047</td>\n",
       "    </tr>\n",
       "    <tr>\n",
       "      <th>4</th>\n",
       "      <td>26508.216797</td>\n",
       "    </tr>\n",
       "    <tr>\n",
       "      <th>...</th>\n",
       "      <td>...</td>\n",
       "    </tr>\n",
       "    <tr>\n",
       "      <th>195</th>\n",
       "      <td>42240.117188</td>\n",
       "    </tr>\n",
       "    <tr>\n",
       "      <th>196</th>\n",
       "      <td>41364.664062</td>\n",
       "    </tr>\n",
       "    <tr>\n",
       "      <th>197</th>\n",
       "      <td>42623.539062</td>\n",
       "    </tr>\n",
       "    <tr>\n",
       "      <th>198</th>\n",
       "      <td>42270.527344</td>\n",
       "    </tr>\n",
       "    <tr>\n",
       "      <th>199</th>\n",
       "      <td>43652.250000</td>\n",
       "    </tr>\n",
       "  </tbody>\n",
       "</table>\n",
       "<p>200 rows × 1 columns</p>\n",
       "</div>"
      ],
      "text/plain": [
       "            Close\n",
       "0    27119.066406\n",
       "1    25760.097656\n",
       "2    27238.783203\n",
       "3    26345.998047\n",
       "4    26508.216797\n",
       "..            ...\n",
       "195  42240.117188\n",
       "196  41364.664062\n",
       "197  42623.539062\n",
       "198  42270.527344\n",
       "199  43652.250000\n",
       "\n",
       "[200 rows x 1 columns]"
      ]
     },
     "execution_count": 33,
     "metadata": {},
     "output_type": "execute_result"
    }
   ],
   "source": [
    "test_data"
   ]
  },
  {
   "cell_type": "code",
   "execution_count": 34,
   "id": "ad3624ce-0112-4958-b66a-dbbf5c0f9f39",
   "metadata": {},
   "outputs": [],
   "source": [
    "test_data_scale = scaler.transform(test_data)"
   ]
  },
  {
   "cell_type": "code",
   "execution_count": 36,
   "id": "3ee2fbb6-02bc-4d45-b74c-8152607c5e01",
   "metadata": {},
   "outputs": [],
   "source": [
    "x = []\n",
    "y = [] \n",
    "\n",
    "for i in range(base_days, test_data_scale.shape[0]):\n",
    "    x.append(test_data_scale[i-base_days:i])\n",
    "    y.append(test_data_scale[i,0])"
   ]
  },
  {
   "cell_type": "code",
   "execution_count": 37,
   "id": "c9de8a50-45da-4d7a-a718-f0bb354bd518",
   "metadata": {},
   "outputs": [],
   "source": [
    "x, y = np.array(x), np.array(y)"
   ]
  },
  {
   "cell_type": "code",
   "execution_count": 38,
   "id": "3889063d-4c04-4fa8-90dd-420904abdda5",
   "metadata": {},
   "outputs": [],
   "source": [
    "x = np.reshape(x, (x.shape[0],x.shape[1],1))"
   ]
  },
  {
   "cell_type": "code",
   "execution_count": 39,
   "id": "6e7d9dda-d914-42db-b7f1-752e0e34559b",
   "metadata": {},
   "outputs": [
    {
     "name": "stdout",
     "output_type": "stream",
     "text": [
      "4/4 [==============================] - 1s 46ms/step\n"
     ]
    }
   ],
   "source": [
    "pred = model.predict(x)"
   ]
  },
  {
   "cell_type": "code",
   "execution_count": 40,
   "id": "eb0ff70b-6c4b-4680-ad59-dc38d7d452f0",
   "metadata": {},
   "outputs": [],
   "source": [
    "pred = scaler.inverse_transform(pred)"
   ]
  },
  {
   "cell_type": "code",
   "execution_count": 41,
   "id": "38733809-609d-420e-9904-e27030f36a42",
   "metadata": {},
   "outputs": [
    {
     "data": {
      "text/plain": [
       "array([[24195.684],\n",
       "       [24001.236],\n",
       "       [24025.621],\n",
       "       [24309.07 ],\n",
       "       [24726.697],\n",
       "       [25063.865],\n",
       "       [25200.273],\n",
       "       [25214.068],\n",
       "       [25290.377],\n",
       "       [25438.123],\n",
       "       [25464.785],\n",
       "       [25348.262],\n",
       "       [25174.023],\n",
       "       [24970.012],\n",
       "       [24797.658],\n",
       "       [24683.582],\n",
       "       [24659.875],\n",
       "       [24837.918],\n",
       "       [25140.447],\n",
       "       [25421.445],\n",
       "       [25819.46 ],\n",
       "       [26161.938],\n",
       "       [26283.49 ],\n",
       "       [26303.05 ],\n",
       "       [26218.855],\n",
       "       [26210.271],\n",
       "       [26324.184],\n",
       "       [26490.227],\n",
       "       [26537.258],\n",
       "       [26396.318],\n",
       "       [26067.887],\n",
       "       [25666.7  ],\n",
       "       [25358.727],\n",
       "       [25224.773],\n",
       "       [25298.7  ],\n",
       "       [25806.113],\n",
       "       [26589.377],\n",
       "       [27154.455],\n",
       "       [27422.709],\n",
       "       [27716.777],\n",
       "       [28140.14 ],\n",
       "       [28547.854],\n",
       "       [29685.1  ],\n",
       "       [31468.262],\n",
       "       [33263.098],\n",
       "       [34076.953],\n",
       "       [33863.85 ],\n",
       "       [33248.176],\n",
       "       [32873.027],\n",
       "       [32909.914],\n",
       "       [33271.105],\n",
       "       [33931.25 ],\n",
       "       [34347.992],\n",
       "       [34287.137],\n",
       "       [34097.426],\n",
       "       [33986.652],\n",
       "       [34002.617],\n",
       "       [34229.555],\n",
       "       [34603.77 ],\n",
       "       [35269.023],\n",
       "       [36105.42 ],\n",
       "       [36618.08 ],\n",
       "       [36623.48 ],\n",
       "       [36152.773],\n",
       "       [35310.816],\n",
       "       [35261.855],\n",
       "       [35458.926],\n",
       "       [35684.613],\n",
       "       [35812.594],\n",
       "       [36095.684],\n",
       "       [36459.71 ],\n",
       "       [36102.92 ],\n",
       "       [35903.773],\n",
       "       [36005.477],\n",
       "       [36407.707],\n",
       "       [36840.066],\n",
       "       [36962.06 ],\n",
       "       [36732.207],\n",
       "       [36600.754],\n",
       "       [36678.684],\n",
       "       [36814.496],\n",
       "       [37232.934],\n",
       "       [37970.492],\n",
       "       [38779.727],\n",
       "       [40054.4  ],\n",
       "       [41875.758],\n",
       "       [43278.73 ],\n",
       "       [43511.68 ],\n",
       "       [43337.85 ],\n",
       "       [43000.676],\n",
       "       [42811.89 ],\n",
       "       [41917.54 ],\n",
       "       [40896.05 ],\n",
       "       [40786.69 ],\n",
       "       [41515.55 ],\n",
       "       [41882.156],\n",
       "       [41782.707],\n",
       "       [41124.348],\n",
       "       [40852.367],\n",
       "       [40989.887]], dtype=float32)"
      ]
     },
     "execution_count": 41,
     "metadata": {},
     "output_type": "execute_result"
    }
   ],
   "source": [
    "pred"
   ]
  },
  {
   "cell_type": "code",
   "execution_count": 42,
   "id": "dc7279c7-936a-4157-8eb5-8e20eb7519d5",
   "metadata": {},
   "outputs": [],
   "source": [
    "#future Bitcoin Price"
   ]
  },
  {
   "cell_type": "code",
   "execution_count": 43,
   "id": "6f47376a-50bb-43ea-9e2a-eaadc54ecaaa",
   "metadata": {},
   "outputs": [
    {
     "name": "stdout",
     "output_type": "stream",
     "text": [
      "1/1 [==============================] - 0s 46ms/step\n",
      "1/1 [==============================] - 0s 38ms/step\n",
      "1/1 [==============================] - 0s 36ms/step\n",
      "1/1 [==============================] - 0s 39ms/step\n",
      "1/1 [==============================] - 0s 38ms/step\n",
      "1/1 [==============================] - 0s 39ms/step\n",
      "1/1 [==============================] - 0s 41ms/step\n",
      "1/1 [==============================] - 0s 41ms/step\n",
      "1/1 [==============================] - 0s 40ms/step\n",
      "1/1 [==============================] - 0s 41ms/step\n",
      "1/1 [==============================] - 0s 41ms/step\n",
      "1/1 [==============================] - 0s 44ms/step\n",
      "1/1 [==============================] - 0s 38ms/step\n",
      "1/1 [==============================] - 0s 37ms/step\n",
      "1/1 [==============================] - 0s 40ms/step\n",
      "1/1 [==============================] - 0s 38ms/step\n",
      "1/1 [==============================] - 0s 40ms/step\n",
      "1/1 [==============================] - 0s 36ms/step\n",
      "1/1 [==============================] - 0s 40ms/step\n",
      "1/1 [==============================] - 0s 39ms/step\n",
      "1/1 [==============================] - 0s 41ms/step\n",
      "1/1 [==============================] - 0s 39ms/step\n",
      "1/1 [==============================] - 0s 40ms/step\n",
      "1/1 [==============================] - 0s 39ms/step\n",
      "1/1 [==============================] - 0s 38ms/step\n",
      "1/1 [==============================] - 0s 41ms/step\n",
      "1/1 [==============================] - 0s 41ms/step\n",
      "1/1 [==============================] - 0s 38ms/step\n",
      "1/1 [==============================] - 0s 40ms/step\n",
      "1/1 [==============================] - 0s 37ms/step\n"
     ]
    }
   ],
   "source": [
    "m = y\n",
    "z= []\n",
    "future_days = 30\n",
    "for i in range(base_days, len(m)+future_days):\n",
    "    m = m.reshape(-1,1)\n",
    "    inter = [m[-base_days:,0]]\n",
    "    inter = np.array(inter)\n",
    "    inter = np.reshape(inter, (inter.shape[0], inter.shape[1],1))\n",
    "    pred = model.predict(inter)\n",
    "    m = np.append(m ,pred)\n",
    "    z = np.append(z, pred)\n"
   ]
  },
  {
   "cell_type": "code",
   "execution_count": 44,
   "id": "ffe629b8-a508-4165-a6ed-cd1bcfcc1fcd",
   "metadata": {},
   "outputs": [],
   "source": [
    "z = np.array(z)\n",
    "z = scaler.inverse_transform(z.reshape(-1,1))"
   ]
  },
  {
   "cell_type": "code",
   "execution_count": 45,
   "id": "efcc3b51-cb09-434c-be4d-aeaddf48db90",
   "metadata": {},
   "outputs": [
    {
     "data": {
      "text/plain": [
       "array([[41818.63349553],\n",
       "       [41986.29377811],\n",
       "       [41575.16237531],\n",
       "       [40887.57486773],\n",
       "       [40144.1394272 ],\n",
       "       [39433.07040235],\n",
       "       [38769.86414858],\n",
       "       [38145.68798431],\n",
       "       [37555.30014081],\n",
       "       [36996.95336182],\n",
       "       [36472.8407552 ],\n",
       "       [35985.60931373],\n",
       "       [35530.02128537],\n",
       "       [35094.25557785],\n",
       "       [34665.18969428],\n",
       "       [34232.0830296 ],\n",
       "       [33785.48835004],\n",
       "       [33320.27233726],\n",
       "       [32835.20990354],\n",
       "       [32328.05170752],\n",
       "       [31803.20806495],\n",
       "       [31267.65193409],\n",
       "       [30727.63327062],\n",
       "       [30191.12116968],\n",
       "       [29664.97210578],\n",
       "       [29143.88807665],\n",
       "       [28618.48611542],\n",
       "       [28082.18689857],\n",
       "       [27528.78666227],\n",
       "       [26951.17788944]])"
      ]
     },
     "execution_count": 45,
     "metadata": {},
     "output_type": "execute_result"
    }
   ],
   "source": [
    "z"
   ]
  },
  {
   "cell_type": "code",
   "execution_count": 46,
   "id": "b78de981-8d62-4340-bc70-6b91728b1331",
   "metadata": {},
   "outputs": [
    {
     "name": "stderr",
     "output_type": "stream",
     "text": [
      "c:\\Users\\833_SOURIN\\anaconda3\\Lib\\site-packages\\keras\\src\\engine\\training.py:3103: UserWarning: You are saving your model as an HDF5 file via `model.save()`. This file format is considered legacy. We recommend using instead the native Keras format, e.g. `model.save('my_model.keras')`.\n",
      "  saving_api.save_model(\n"
     ]
    }
   ],
   "source": [
    "model.save('Bitcoin_Price_prediction_Model.h5')"
   ]
  },
  {
   "cell_type": "code",
   "execution_count": null,
   "id": "f09d70a7-df12-43fd-aec5-3fd939abf3da",
   "metadata": {},
   "outputs": [],
   "source": []
  }
 ],
 "metadata": {
  "kernelspec": {
   "display_name": "Python 3 (ipykernel)",
   "language": "python",
   "name": "python3"
  },
  "language_info": {
   "codemirror_mode": {
    "name": "ipython",
    "version": 3
   },
   "file_extension": ".py",
   "mimetype": "text/x-python",
   "name": "python",
   "nbconvert_exporter": "python",
   "pygments_lexer": "ipython3",
   "version": "3.11.5"
  }
 },
 "nbformat": 4,
 "nbformat_minor": 5
}
